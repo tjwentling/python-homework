{
 "cells": [
  {
   "cell_type": "code",
   "execution_count": 1,
   "id": "9d450b70-137d-447b-b7f4-4da5aa3e2030",
   "metadata": {},
   "outputs": [],
   "source": [
    "import csv"
   ]
  },
  {
   "cell_type": "code",
   "execution_count": 3,
   "id": "cb85dea0-4fc8-4c9e-8d69-be994c4e2df3",
   "metadata": {},
   "outputs": [
    {
     "data": {
      "text/plain": [
       "[['Jan-10', 867884],\n",
       " ['Feb-10', 984655],\n",
       " ['Mar-10', 322013],\n",
       " ['Apr-10', -69417],\n",
       " ['May-10', 310503]]"
      ]
     },
     "execution_count": 3,
     "metadata": {},
     "output_type": "execute_result"
    }
   ],
   "source": [
    "# initializing data variable as empty list\n",
    "data = []\n",
    "\n",
    "#opening and reading the budget data csv file and saving each row as a list to the data list\n",
    "with open('./Resources/budget_data.csv', 'r') as i:\n",
    "    #skip headers\n",
    "    next(i)\n",
    "    #reading each row of the csv file\n",
    "    for row in csv.reader(i):\n",
    "        #appending list of rows to data list and converting profit/losses column to integers\n",
    "        data += [[row[0],int(row[1])]]\n",
    "\n",
    "# outputting/checking the first 5 values of the data list\n",
    "data[:5]"
   ]
  },
  {
   "cell_type": "code",
   "execution_count": 4,
   "id": "5c1987fa-88d2-4b2e-91da-af8c9ea12acc",
   "metadata": {},
   "outputs": [],
   "source": [
    "# variable to represent the data length minus the last index for the coming change list\n",
    "LENGTH = len(data)-1"
   ]
  },
  {
   "cell_type": "code",
   "execution_count": 5,
   "id": "cdcc3c23-b4e6-4c53-9c01-2e82904e2993",
   "metadata": {},
   "outputs": [
    {
     "data": {
      "text/plain": [
       "[116771, -662642, -391430, 379920, 212354]"
      ]
     },
     "execution_count": 5,
     "metadata": {},
     "output_type": "execute_result"
    }
   ],
   "source": [
    "# initializing change variable as empty list\n",
    "change = []\n",
    "\n",
    "#looping over all indexes in the range of LENGTH\n",
    "for i in range(LENGTH):\n",
    "    #appending the difference between each entry and each previous entry to the change list\n",
    "    change.append(data[i+1][1] - data[i][1])\n",
    "\n",
    "# outputting/checking the first 5 values of the change list\n",
    "change[:5]"
   ]
  },
  {
   "cell_type": "code",
   "execution_count": 6,
   "id": "7523cde8-2c09-421c-8940-4bfacbff1e89",
   "metadata": {},
   "outputs": [],
   "source": [
    "# lambda expression/function to get/format the date and value of the greatest increase/decrease\n",
    "format_greatest = lambda g: f\"{data[change.index(g)+1][0]} (${g})\""
   ]
  },
  {
   "cell_type": "code",
   "execution_count": 7,
   "id": "b4e35db7-4d58-4c1a-9869-99d2eee51c53",
   "metadata": {},
   "outputs": [],
   "source": [
    "# got the total months by getting the length of the data list\n",
    "total_months = len(data)\n",
    "\n",
    "# got total through summation of the profit/losses column\n",
    "total = f\"${sum(i[1] for i in data)}\"\n",
    "\n",
    "# getting the average change by dividing the sum of the change list by the length \n",
    "# and rounding the result to two past the decimal point\n",
    "avg_change = round(sum(change)/LENGTH,2)\n",
    "\n",
    "# getting formatted min/max dates/values from the change list\n",
    "increase = format_greatest(max(change))\n",
    "decrease = format_greatest(min(change))"
   ]
  },
  {
   "cell_type": "code",
   "execution_count": 8,
   "id": "928ac126-3dcb-47be-abc0-d72bc9d64f43",
   "metadata": {},
   "outputs": [],
   "source": [
    "# list containing output\n",
    "output = [\"Financial Analysis\", \"----------------------------\", \n",
    "         f\"Total Months: {total_months}\", f\"Total: {total}\",\n",
    "         f\"Average Change: ${avg_change}\",\n",
    "         f\"Greatest Increase in Profits: {increase}\",\n",
    "         f\"Greatest Decrease in Profits: {decrease}\"]"
   ]
  },
  {
   "cell_type": "code",
   "execution_count": 9,
   "id": "179b9e70-64b8-46f8-b677-b9bd9bcd1705",
   "metadata": {},
   "outputs": [
    {
     "name": "stdout",
     "output_type": "stream",
     "text": [
      "Financial Analysis\n",
      "----------------------------\n",
      "Total Months: 86\n",
      "Total: $38382578\n",
      "Average Change: $-2315.12\n",
      "Greatest Increase in Profits: Feb-12 ($1926159)\n",
      "Greatest Decrease in Profits: Sep-13 ($-2196167)\n"
     ]
    }
   ],
   "source": [
    "#creating and writing text file called RESULTS.txt\n",
    "with open('RESULTS.txt', 'w') as i:\n",
    "    # looping over output list\n",
    "    for j in output:\n",
    "        # printing each line of output/financial analysis\n",
    "        print(j)\n",
    "        # writing each each line of output/financial analysis to the RESULTS.txt file\n",
    "        i.write(j + \"\\n\")"
   ]
  },
  {
   "cell_type": "code",
   "execution_count": null,
   "id": "094084d9-56a2-4aa8-992d-e4f063c4ed1c",
   "metadata": {},
   "outputs": [],
   "source": [
    "#importing the csv module\n",
    "import csv\n",
    "# initializing data variable as empty list\n",
    "data = []\n",
    "\n",
    "#opening and reading the budget data csv file and saving each row as a list to the data list\n",
    "with open('../Resources/budget_data.csv', 'r') as i:\n",
    "    #skip headers\n",
    "    next(i)\n",
    "    #reading each row of the csv file\n",
    "    for row in csv.reader(i):\n",
    "        #appending list of rows to data list and converting profit/losses column to integers\n",
    "        data += [[row[0],int(row[1])]]\n",
    "\n",
    "# outputting/checking the first 5 values of the data list\n",
    "data[:5]\n",
    "[['Jan-2010', 867884],\n",
    " ['Feb-2010', 984655],\n",
    " ['Mar-2010', 322013],\n",
    " ['Apr-2010', -69417],\n",
    " ['May-2010', 310503]]\n",
    "# variable to represent the data length minus the last index for the coming change list\n",
    "LENGTH = len(data)-1\n",
    "# initializing change variable as empty list\n",
    "change = []\n",
    "\n",
    "#looping over all indexes in the range of LENGTH\n",
    "for i in range(LENGTH):\n",
    "    #appending the difference between each entry and each previous entry to the change list\n",
    "    change.append(data[i+1][1] - data[i][1])\n",
    "\n",
    "# outputting/checking the first 5 values of the change list\n",
    "change[:5]\n",
    "[116771, -662642, -391430, 379920, 212354]\n",
    "# lambda expression/function to get/format the date and value of the greatest increase/decrease\n",
    "format_greatest = lambda g: f\"{data[change.index(g)+1][0]} (${g})\"\n",
    "# got the total months by getting the length of the data list\n",
    "total_months = len(data)\n",
    "\n",
    "# got total through summation of the profit/losses column\n",
    "total = f\"${sum(i[1] for i in data)}\"\n",
    "\n",
    "# getting the average change by dividing the sum of the change list by the length \n",
    "# and rounding the result to two past the decimal point\n",
    "avg_change = round(sum(change)/LENGTH,2)\n",
    "\n",
    "# getting formatted min/max dates/values from the change list\n",
    "increase = format_greatest(max(change))\n",
    "decrease = format_greatest(min(change))\n",
    "# list containing output\n",
    "output = [\"Financial Analysis\", \"----------------------------\", \n",
    "         f\"Total Months: {total_months}\", f\"Total: {total}\",\n",
    "         f\"Average Change: ${avg_change}\",\n",
    "         f\"Greatest Increase in Profits: {increase}\",\n",
    "         f\"Greatest Decrease in Profits: {decrease}\"]\n",
    "#creating and writing text file called RESULTS.txt\n",
    "with open('RESULTS.txt', 'w') as i:\n",
    "    # looping over output list\n",
    "    for j in output:\n",
    "        # printing each line of output/financial analysis\n",
    "        print(j)\n",
    "        # writing each each line of output/financial analysis to the RESULTS.txt file\n",
    "        i.write(j + \"\\n\")\n",
    "Financial Analysis\n",
    "----------------------------\n",
    "Total Months: 86\n",
    "Total: $38382578\n",
    "Average Change: $-2315.12\n",
    "Greatest Increase in Profits: Feb-2012 ($1926159)\n",
    "Greatest Decrease in Profits: Sep-2013 ($-2196167)"
   ]
  },
  {
   "cell_type": "code",
   "execution_count": null,
   "id": "9bb65b42-475c-4c20-8bc5-ac258ffa387e",
   "metadata": {},
   "outputs": [],
   "source": []
  }
 ],
 "metadata": {
  "kernelspec": {
   "display_name": "Python 3 (ipykernel)",
   "language": "python",
   "name": "python3"
  },
  "language_info": {
   "codemirror_mode": {
    "name": "ipython",
    "version": 3
   },
   "file_extension": ".py",
   "mimetype": "text/x-python",
   "name": "python",
   "nbconvert_exporter": "python",
   "pygments_lexer": "ipython3",
   "version": "3.7.13"
  }
 },
 "nbformat": 4,
 "nbformat_minor": 5
}
